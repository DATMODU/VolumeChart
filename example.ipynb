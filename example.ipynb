{
 "cells": [
  {
   "cell_type": "markdown",
   "metadata": {},
   "source": [
    "Import Libraries"
   ]
  },
  {
   "cell_type": "code",
   "execution_count": 1,
   "metadata": {},
   "outputs": [],
   "source": [
    "from VolumeChart import VolumeTick\n",
    "from binance.websockets import BinanceSocketManager\n",
    "from binance.client import Client\n",
    "from logger import MyLogger"
   ]
  },
  {
   "cell_type": "markdown",
   "metadata": {},
   "source": [
    "API Key, Secret Key 지정"
   ]
  },
  {
   "cell_type": "code",
   "execution_count": 2,
   "metadata": {},
   "outputs": [],
   "source": [
    "API_KEY = \"\"\n",
    "SECRET_KEY = \"\""
   ]
  },
  {
   "cell_type": "markdown",
   "metadata": {},
   "source": [
    "Class 정의"
   ]
  },
  {
   "cell_type": "code",
   "execution_count": 3,
   "metadata": {},
   "outputs": [],
   "source": [
    "class Vol():\n",
    "    def __init__(self, symbol):\n",
    "        \n",
    "        self.pair = symbol\n",
    "        self.client = Client(API_KEY, SECRET_KEY)\n",
    "        self.bm = BinanceSocketManager(self.client)\n",
    "        self.volumeChart = VolumeTick(symbol)\n",
    "        self.logger = MyLogger.instance().logger()\n",
    "\n",
    "    def run(self):\n",
    "        self.con = self.bm.start_aggtrade_socket(self.pair, self.process_message)\n",
    "        self.bm.start()\n",
    "\n",
    "    def reset_socket(self):\n",
    "        self.bm.stop_socket(self.con)\n",
    "        self.con = self.bm.start_aggtrade_socket(self.pair, self.process_message)\n",
    "        self.bm.start()\n",
    "\n",
    "    def process_message(self,msg):\n",
    "\n",
    "        if msg['e'] == 'error':\n",
    "            # close and restart the socket\n",
    "            error_msg = \"Socket error occured restart the socket {}\".format(self.pair)\n",
    "            self.logger.debug(error_msg)\n",
    "            self.reset_socket()\n",
    "\n",
    "        else:\n",
    "            # 실시간 Volume Tick 가공, 저장\n",
    "            try :\n",
    "                self.volumeChart.volumeTick(tick=msg, option='print')\n",
    "            except Exception as e :\n",
    "                self.logger.debug(str(e))\n"
   ]
  },
  {
   "cell_type": "code",
   "execution_count": 4,
   "metadata": {},
   "outputs": [],
   "source": [
    "vol = Vol('BTCUSDT')"
   ]
  },
  {
   "cell_type": "code",
   "execution_count": 5,
   "metadata": {},
   "outputs": [
    {
     "name": "stdout",
     "output_type": "stream",
     "text": [
      "{'close': 9020.01, 'finish': datetime.datetime(2018, 3, 13, 21, 4, 12, 483000), 'sellvol': 12.280481050730259, 'weightAvgPrice': 9011.776421316768, 'buyvol': 7.719518949269741, 'low': 9000.0, 'open': 9021.36, 'start': datetime.datetime(2018, 3, 13, 21, 3, 32, 973000), 'high': 9022.63, 'duration': 39.51}\n",
      "{'close': 9028.05, 'finish': datetime.datetime(2018, 3, 13, 21, 5, 3, 276000), 'sellvol': 7.866094869652443, 'weightAvgPrice': 9019.747122236962, 'buyvol': 12.133905130347557, 'low': 9010.0, 'open': 9020.01, 'start': datetime.datetime(2018, 3, 13, 21, 4, 12, 483000), 'high': 9028.05, 'duration': 50.793}\n",
      "{'close': 9032.0, 'finish': datetime.datetime(2018, 3, 13, 21, 6, 23, 584000), 'sellvol': 8.65837432775379, 'weightAvgPrice': 9035.842829904514, 'buyvol': 11.34162567224621, 'low': 9020.03, 'open': 9028.05, 'start': datetime.datetime(2018, 3, 13, 21, 5, 3, 276000), 'high': 9050.0, 'duration': 80.308}\n",
      "{'close': 9001.0, 'finish': datetime.datetime(2018, 3, 13, 21, 7, 7, 349000), 'sellvol': 15.168884978649658, 'weightAvgPrice': 9025.642967045616, 'buyvol': 4.831115021350342, 'low': 9001.0, 'open': 9032.0, 'start': datetime.datetime(2018, 3, 13, 21, 6, 23, 584000), 'high': 9040.15, 'duration': 43.765}\n",
      "{'close': 8990.11, 'finish': datetime.datetime(2018, 3, 13, 21, 7, 55, 778000), 'sellvol': 11.402620044602372, 'weightAvgPrice': 9002.718767568358, 'buyvol': 8.597379955397628, 'low': 8990.0, 'open': 9001.0, 'start': datetime.datetime(2018, 3, 13, 21, 7, 7, 349000), 'high': 9017.79, 'duration': 48.429}\n"
     ]
    }
   ],
   "source": [
    "vol.run()"
   ]
  },
  {
   "cell_type": "code",
   "execution_count": null,
   "metadata": {},
   "outputs": [],
   "source": []
  }
 ],
 "metadata": {
  "kernelspec": {
   "display_name": "coin",
   "language": "python",
   "name": "coin"
  },
  "language_info": {
   "codemirror_mode": {
    "name": "ipython",
    "version": 3
   },
   "file_extension": ".py",
   "mimetype": "text/x-python",
   "name": "python",
   "nbconvert_exporter": "python",
   "pygments_lexer": "ipython3",
   "version": "3.5.4"
  }
 },
 "nbformat": 4,
 "nbformat_minor": 2
}
